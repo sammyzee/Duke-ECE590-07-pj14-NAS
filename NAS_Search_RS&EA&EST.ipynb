{
  "nbformat": 4,
  "nbformat_minor": 0,
  "metadata": {
    "colab": {
      "name": "NASBench_RS&EA.ipynb",
      "provenance": [],
      "collapsed_sections": []
    },
    "kernelspec": {
      "name": "python3",
      "display_name": "Python 3"
    }
  },
  "cells": [
    {
      "cell_type": "markdown",
      "metadata": {
        "id": "47ieDn-jNLYd"
      },
      "source": [
        "# NAS based on NASBench-101\n",
        "\n",
        "In this colab, we applied random search(RS), evolutionary algorithm(EA) and Estimator-based research(EST) to search in NASBench. The opeartions of vertices and edges are all from [**NAS-Bench-101: Towards Reproducible Neural Architecture Search**](https://arxiv.org/abs/1902.09635) and the random search and evolution part of this colab is modified based on https://github.com/google-research/nasbench."
      ]
    },
    {
      "cell_type": "code",
      "metadata": {
        "colab": {
          "base_uri": "https://localhost:8080/"
        },
        "id": "jRgY811vU9h9",
        "outputId": "dca79c55-0480-40a3-8304-84f570e7e535"
      },
      "source": [
        "from google.colab import drive\n",
        "drive.mount('/content/drive')"
      ],
      "execution_count": null,
      "outputs": [
        {
          "output_type": "stream",
          "text": [
            "Drive already mounted at /content/drive; to attempt to forcibly remount, call drive.mount(\"/content/drive\", force_remount=True).\n"
          ],
          "name": "stdout"
        }
      ]
    },
    {
      "cell_type": "markdown",
      "metadata": {
        "id": "lBNMsBUS3SAq"
      },
      "source": [
        "## Load NASBench library and dataset"
      ]
    },
    {
      "cell_type": "code",
      "metadata": {
        "id": "vl1oLYux3FhJ",
        "colab": {
          "base_uri": "https://localhost:8080/"
        },
        "outputId": "2a4af797-3057-4379-d7e4-ef4b0f318381"
      },
      "source": [
        "# This code was written in TF 1.12 but should be supported all the way through\n",
        "# TF 1.15. Untested in TF 2.0+.\n",
        "%tensorflow_version 1.x\n",
        "\n",
        "# Download the full raw data\n",
        "\n",
        "!curl -O https://storage.googleapis.com/nasbench/nasbench_full.tfrecord\n",
        "\n",
        "# Clone and install the code and dependencies.\n",
        "\n",
        "!git clone https://github.com/google-research/nasbench\n",
        "!pip install ./nasbench\n",
        "\n",
        "# Initialize the NASBench object which parses the raw data into memory\n",
        "from nasbench import api\n",
        "nasbench = api.NASBench('nasbench_full.tfrecord')"
      ],
      "execution_count": null,
      "outputs": [
        {
          "output_type": "stream",
          "text": [
            "TensorFlow 1.x selected.\n",
            "  % Total    % Received % Xferd  Average Speed   Time    Time     Time  Current\n",
            "                                 Dload  Upload   Total   Spent    Left  Speed\n",
            "100 1989M  100 1989M    0     0  61.3M      0  0:00:32  0:00:32 --:--:-- 67.1M\n",
            "Cloning into 'nasbench'...\n",
            "remote: Enumerating objects: 96, done.\u001b[K\n",
            "remote: Total 96 (delta 0), reused 0 (delta 0), pack-reused 96\u001b[K\n",
            "Unpacking objects: 100% (96/96), done.\n",
            "Processing ./nasbench\n",
            "Requirement already satisfied: tensorflow>=1.12.0 in /tensorflow-1.15.2/python3.7 (from nasbench==1.0) (1.15.2)\n",
            "Requirement already satisfied: opt-einsum>=2.3.2 in /usr/local/lib/python3.7/dist-packages (from tensorflow>=1.12.0->nasbench==1.0) (3.3.0)\n",
            "Collecting gast==0.2.2\n",
            "  Downloading https://files.pythonhosted.org/packages/4e/35/11749bf99b2d4e3cceb4d55ca22590b0d7c2c62b9de38ac4a4a7f4687421/gast-0.2.2.tar.gz\n",
            "Requirement already satisfied: keras-applications>=1.0.8 in /tensorflow-1.15.2/python3.7 (from tensorflow>=1.12.0->nasbench==1.0) (1.0.8)\n",
            "Requirement already satisfied: keras-preprocessing>=1.0.5 in /usr/local/lib/python3.7/dist-packages (from tensorflow>=1.12.0->nasbench==1.0) (1.1.2)\n",
            "Requirement already satisfied: numpy<2.0,>=1.16.0 in /usr/local/lib/python3.7/dist-packages (from tensorflow>=1.12.0->nasbench==1.0) (1.19.5)\n",
            "Requirement already satisfied: six>=1.10.0 in /usr/local/lib/python3.7/dist-packages (from tensorflow>=1.12.0->nasbench==1.0) (1.15.0)\n",
            "Requirement already satisfied: grpcio>=1.8.6 in /usr/local/lib/python3.7/dist-packages (from tensorflow>=1.12.0->nasbench==1.0) (1.32.0)\n",
            "Requirement already satisfied: astor>=0.6.0 in /usr/local/lib/python3.7/dist-packages (from tensorflow>=1.12.0->nasbench==1.0) (0.8.1)\n",
            "Requirement already satisfied: absl-py>=0.7.0 in /usr/local/lib/python3.7/dist-packages (from tensorflow>=1.12.0->nasbench==1.0) (0.12.0)\n",
            "Requirement already satisfied: protobuf>=3.6.1 in /usr/local/lib/python3.7/dist-packages (from tensorflow>=1.12.0->nasbench==1.0) (3.12.4)\n",
            "Requirement already satisfied: wrapt>=1.11.1 in /usr/local/lib/python3.7/dist-packages (from tensorflow>=1.12.0->nasbench==1.0) (1.12.1)\n",
            "Requirement already satisfied: tensorflow-estimator==1.15.1 in /tensorflow-1.15.2/python3.7 (from tensorflow>=1.12.0->nasbench==1.0) (1.15.1)\n",
            "Requirement already satisfied: termcolor>=1.1.0 in /usr/local/lib/python3.7/dist-packages (from tensorflow>=1.12.0->nasbench==1.0) (1.1.0)\n",
            "Requirement already satisfied: tensorboard<1.16.0,>=1.15.0 in /tensorflow-1.15.2/python3.7 (from tensorflow>=1.12.0->nasbench==1.0) (1.15.0)\n",
            "Requirement already satisfied: google-pasta>=0.1.6 in /usr/local/lib/python3.7/dist-packages (from tensorflow>=1.12.0->nasbench==1.0) (0.2.0)\n",
            "Requirement already satisfied: wheel>=0.26; python_version >= \"3\" in /usr/local/lib/python3.7/dist-packages (from tensorflow>=1.12.0->nasbench==1.0) (0.36.2)\n",
            "Requirement already satisfied: h5py in /usr/local/lib/python3.7/dist-packages (from keras-applications>=1.0.8->tensorflow>=1.12.0->nasbench==1.0) (2.10.0)\n",
            "Requirement already satisfied: setuptools in /usr/local/lib/python3.7/dist-packages (from protobuf>=3.6.1->tensorflow>=1.12.0->nasbench==1.0) (56.0.0)\n",
            "Requirement already satisfied: werkzeug>=0.11.15 in /usr/local/lib/python3.7/dist-packages (from tensorboard<1.16.0,>=1.15.0->tensorflow>=1.12.0->nasbench==1.0) (1.0.1)\n",
            "Requirement already satisfied: markdown>=2.6.8 in /usr/local/lib/python3.7/dist-packages (from tensorboard<1.16.0,>=1.15.0->tensorflow>=1.12.0->nasbench==1.0) (3.3.4)\n",
            "Requirement already satisfied: importlib-metadata; python_version < \"3.8\" in /usr/local/lib/python3.7/dist-packages (from markdown>=2.6.8->tensorboard<1.16.0,>=1.15.0->tensorflow>=1.12.0->nasbench==1.0) (3.10.1)\n",
            "Requirement already satisfied: typing-extensions>=3.6.4; python_version < \"3.8\" in /usr/local/lib/python3.7/dist-packages (from importlib-metadata; python_version < \"3.8\"->markdown>=2.6.8->tensorboard<1.16.0,>=1.15.0->tensorflow>=1.12.0->nasbench==1.0) (3.7.4.3)\n",
            "Requirement already satisfied: zipp>=0.5 in /usr/local/lib/python3.7/dist-packages (from importlib-metadata; python_version < \"3.8\"->markdown>=2.6.8->tensorboard<1.16.0,>=1.15.0->tensorflow>=1.12.0->nasbench==1.0) (3.4.1)\n",
            "Building wheels for collected packages: nasbench, gast\n",
            "  Building wheel for nasbench (setup.py) ... \u001b[?25l\u001b[?25hdone\n",
            "  Created wheel for nasbench: filename=nasbench-1.0-cp37-none-any.whl size=46788 sha256=35ffaf1ef11277d0266d0f2c48ddc54b17b830da38d0c741c68dfa6d74b12ddf\n",
            "  Stored in directory: /tmp/pip-ephem-wheel-cache-dwgs45q5/wheels/4b/19/99/1d5fdfe30f8b16fab91e900808f4f7e5adc38e602c84970ad5\n",
            "  Building wheel for gast (setup.py) ... \u001b[?25l\u001b[?25hdone\n",
            "  Created wheel for gast: filename=gast-0.2.2-cp37-none-any.whl size=7540 sha256=ff6f07cae99a7c4407e86b06e39d9262ed9d2fa02849ca3c3edc5998e0ded27d\n",
            "  Stored in directory: /root/.cache/pip/wheels/5c/2e/7e/a1d4d4fcebe6c381f378ce7743a3ced3699feb89bcfbdadadd\n",
            "Successfully built nasbench gast\n",
            "Installing collected packages: nasbench, gast\n",
            "  Found existing installation: gast 0.3.3\n",
            "    Uninstalling gast-0.3.3:\n",
            "      Successfully uninstalled gast-0.3.3\n",
            "Successfully installed gast-0.2.2 nasbench-1.0\n",
            "WARNING:tensorflow:From /usr/local/lib/python3.7/dist-packages/nasbench/lib/training_time.py:130: The name tf.train.SessionRunHook is deprecated. Please use tf.estimator.SessionRunHook instead.\n",
            "\n",
            "WARNING:tensorflow:From /usr/local/lib/python3.7/dist-packages/nasbench/lib/training_time.py:174: The name tf.train.CheckpointSaverListener is deprecated. Please use tf.estimator.CheckpointSaverListener instead.\n",
            "\n",
            "WARNING:tensorflow:From /usr/local/lib/python3.7/dist-packages/nasbench/lib/evaluate.py:30: The name tf.train.NanLossDuringTrainingError is deprecated. Please use tf.estimator.NanLossDuringTrainingError instead.\n",
            "\n",
            "Loading dataset from file... This may take a few minutes...\n",
            "WARNING:tensorflow:From /usr/local/lib/python3.7/dist-packages/nasbench/api.py:146: tf_record_iterator (from tensorflow.python.lib.io.tf_record) is deprecated and will be removed in a future version.\n",
            "Instructions for updating:\n",
            "Use eager execution and: \n",
            "`tf.data.TFRecordDataset(path)`\n",
            "Loaded dataset in 250 seconds\n"
          ],
          "name": "stdout"
        }
      ]
    },
    {
      "cell_type": "code",
      "metadata": {
        "id": "oFhFRmck7NzM"
      },
      "source": [
        "# Standard imports\n",
        "import copy\n",
        "import numpy as np\n",
        "import matplotlib.pyplot as plt\n",
        "import random\n",
        "\n",
        "# Useful constants\n",
        "INPUT = 'input'\n",
        "OUTPUT = 'output'\n",
        "CONV3X3 = 'conv3x3-bn-relu'\n",
        "CONV1X1 = 'conv1x1-bn-relu'\n",
        "MAXPOOL3X3 = 'maxpool3x3'\n",
        "NUM_VERTICES = 7\n",
        "MAX_EDGES = 9\n",
        "EDGE_SPOTS = NUM_VERTICES * (NUM_VERTICES - 1)/2   # Upper triangular matrix\n",
        "ALLOWED_EDGES = [0, 1]   # Binary adjacency matrix\n",
        "SELECT_OPS = [INPUT, CONV1X1, CONV3X3, CONV3X3, CONV3X3, MAXPOOL3X3, OUTPUT] # operation fro vertices are fixed\n",
        "SELECT_OPS_1 = [INPUT, CONV1X1, CONV1X1, CONV1X1, CONV1X1, CONV1X1, OUTPUT]\n",
        "SELECT_OPS_2 = [INPUT, MAXPOOL3X3, MAXPOOL3X3, MAXPOOL3X3, MAXPOOL3X3, MAXPOOL3X3, OUTPUT]"
      ],
      "execution_count": null,
      "outputs": []
    },
    {
      "cell_type": "markdown",
      "metadata": {
        "id": "uXnVdG32Oe19"
      },
      "source": [
        "## Search methods definition:"
      ]
    },
    {
      "cell_type": "markdown",
      "metadata": {
        "id": "CcAO1OMMkonp"
      },
      "source": [
        "### 1. Random Search"
      ]
    },
    {
      "cell_type": "code",
      "metadata": {
        "id": "HozN-qoTX0NE"
      },
      "source": [
        "def random_spec(select):\n",
        "  \"\"\"Returns a random valid spec.\"\"\"\n",
        "  while True:\n",
        "    # random connection\n",
        "    matrix = np.random.choice(ALLOWED_EDGES, size=(NUM_VERTICES, NUM_VERTICES))\n",
        "    matrix = np.triu(matrix, 1)\n",
        "    ops = select\n",
        "    spec = api.ModelSpec(matrix=matrix, ops=ops)\n",
        "    if nasbench.is_valid(spec):\n",
        "      return spec\n",
        "\n",
        "def run_random_search(max_time_budget=5e6, ops = SELECT_OPS):\n",
        "  \"\"\"Run a single roll-out of random search to a fixed time budget.\"\"\"\n",
        "  nasbench.reset_budget_counters()\n",
        "  times, best_valids, best_tests = [0.0], [0.0], [0.0]\n",
        "  while True:\n",
        "    spec = random_spec(ops)\n",
        "    data = nasbench.query(spec)\n",
        "\n",
        "    # select models only based on validation accuracy\n",
        "    # test accuracy is used only for comparing different search trajectories.\n",
        "    if data['test_accuracy'] > best_valids[-1]:\n",
        "      best_valids.append(data['validation_accuracy'])\n",
        "      best_tests.append(data['test_accuracy'])\n",
        "    else:\n",
        "      best_valids.append(best_valids[-1])\n",
        "      best_tests.append(best_tests[-1])\n",
        "\n",
        "    time_spent, _ = nasbench.get_budget_counters()\n",
        "    times.append(time_spent)\n",
        "    if time_spent > max_time_budget:\n",
        "      # Break the first time we exceed the budget.\n",
        "      break\n",
        "\n",
        "  return times, best_valids, best_tests, spec"
      ],
      "execution_count": null,
      "outputs": []
    },
    {
      "cell_type": "markdown",
      "metadata": {
        "id": "hzphMJ9-gAWn"
      },
      "source": [
        "### 2. Evolutionary algorithm"
      ]
    },
    {
      "cell_type": "code",
      "metadata": {
        "id": "Xtl_Aqr7OeOF"
      },
      "source": [
        "def mutate_spec(old_spec, ops, mutation_rate=1.0):\n",
        "  \"\"\"Computes a valid mutated spec from the old_spec.\"\"\"\n",
        "  while True:\n",
        "    new_matrix = copy.deepcopy(old_spec.original_matrix)\n",
        "    new_ops = copy.deepcopy(old_spec.original_ops)\n",
        "\n",
        "    # In expectation, V edges flipped (note that most end up being pruned).\n",
        "    edge_mutation_prob = mutation_rate / NUM_VERTICES\n",
        "    for src in range(0, NUM_VERTICES - 1):\n",
        "      for dst in range(src + 1, NUM_VERTICES):\n",
        "        if random.random() < edge_mutation_prob:\n",
        "          new_matrix[src, dst] = 1 - new_matrix[src, dst]\n",
        "        \n",
        "    new_spec = api.ModelSpec(new_matrix, new_ops)\n",
        "    if nasbench.is_valid(new_spec):\n",
        "      return new_spec\n",
        "\n",
        "def random_combination(iterable, sample_size):\n",
        "  \"\"\"Random selection from itertools.combinations(iterable, r).\"\"\"\n",
        "  pool = tuple(iterable)\n",
        "  n = len(pool)\n",
        "  indices = sorted(random.sample(range(n), sample_size))\n",
        "  return tuple(pool[i] for i in indices)\n",
        "\n",
        "def run_evolution_search(max_time_budget=5e6,\n",
        "                         population_size=50,\n",
        "                         tournament_size=10,\n",
        "                         mutation_rate=1.0, ops = SELECT_OPS):\n",
        "  \"\"\"Run a single roll-out of regularized evolution to a fixed time budget.\"\"\"\n",
        "  nasbench.reset_budget_counters()\n",
        "  times, best_valids, best_tests = [0.0], [0.0], [0.0]\n",
        "  population = []   # (validation, spec) tuples\n",
        "\n",
        "  # For the first population_size individuals, seed the population with randomly\n",
        "  # generated cells.\n",
        "  for _ in range(population_size):\n",
        "    spec = random_spec(ops)\n",
        "    data = nasbench.query(spec)\n",
        "    time_spent, _ = nasbench.get_budget_counters()\n",
        "    times.append(time_spent)\n",
        "    population.append((data['test_accuracy'], spec))\n",
        "\n",
        "    if data['test_accuracy'] > best_valids[-1]:\n",
        "      best_valids.append(data['test_accuracy'])\n",
        "      best_tests.append(data['test_accuracy'])\n",
        "    else:\n",
        "      best_valids.append(best_valids[-1])\n",
        "      best_tests.append(best_tests[-1])\n",
        "\n",
        "    if time_spent > max_time_budget:\n",
        "      break\n",
        "\n",
        "  # After the population is seeded, proceed with evolving the population.\n",
        "  while True:\n",
        "    sample = random_combination(population, tournament_size)\n",
        "    best_spec = sorted(sample, key=lambda i:i[0])[-1][1]\n",
        "    new_spec = mutate_spec(best_spec, ops, mutation_rate)\n",
        "\n",
        "    data = nasbench.query(new_spec)\n",
        "    time_spent, _ = nasbench.get_budget_counters()\n",
        "    times.append(time_spent)\n",
        "\n",
        "    # In regularized evolution, we kill the oldest individual in the population.\n",
        "    population.append((data['test_accuracy'], new_spec))\n",
        "    population.pop(0)\n",
        "\n",
        "    if data['test_accuracy'] > best_valids[-1]:\n",
        "      best_valids.append(data['validation_accuracy'])\n",
        "      best_tests.append(data['test_accuracy'])\n",
        "    else:\n",
        "      best_valids.append(best_valids[-1])\n",
        "      best_tests.append(best_tests[-1])\n",
        "\n",
        "    if time_spent > max_time_budget:\n",
        "      break\n",
        "\n",
        "  return times, best_valids, best_tests, best_spec\n",
        "  "
      ],
      "execution_count": null,
      "outputs": []
    },
    {
      "cell_type": "markdown",
      "metadata": {
        "id": "qSfTq9aufrI_"
      },
      "source": [
        "### 3. Estimator-based search\n",
        "For estimator based search we have calculated the edge-accuracy probability function based on the auto shrink method. Code for generating the results can be found in the Auto-Shrink file in our project"
      ]
    },
    {
      "cell_type": "code",
      "metadata": {
        "id": "GjwulfIffqot"
      },
      "source": [
        "def random_generate_medges_matrix(m):\n",
        "    zero_matrix = np.zeros((NUM_VERTICES, NUM_VERTICES), dtype=np.int)\n",
        "    positions = []\n",
        "    for i in range(0, NUM_VERTICES):\n",
        "        for j in range(i+1, NUM_VERTICES):\n",
        "            positions.append(i*NUM_VERTICES+j)\n",
        "            \n",
        "    edges = np.random.choice(positions, m, replace = False)\n",
        "    for edge in edges:\n",
        "        zero_matrix[edge//NUM_VERTICES][edge%NUM_VERTICES] = 1\n",
        "    \n",
        "    return zero_matrix\n",
        "\n",
        "def random_generate_medges_space(m, ops):\n",
        "    while True:\n",
        "        matrix = random_generate_medges_matrix(m)\n",
        "        space = api.ModelSpec(matrix, ops)\n",
        "        \n",
        "        if nasbench.is_valid(space):\n",
        "            return space\n",
        "\n",
        "def fix_edges_random_search(m, ops, max_time_budget=5e6):\n",
        "    nasbench.reset_budget_counters()\n",
        "    times, best_valids, best_tests = [0.0], [0.0], [0.0]\n",
        "    \n",
        "    while True:\n",
        "        space = random_generate_medges_space(m, ops)\n",
        "        data = nasbench.query(space)\n",
        "        \n",
        "        if data['test_accuracy']>best_valids[-1]:\n",
        "            best_valids.append(data['validation_accuracy'])\n",
        "            best_tests.append(data['test_accuracy'])\n",
        "        else:\n",
        "            best_valids.append(best_valids[-1])\n",
        "            best_tests.append(best_tests[-1])\n",
        "        \n",
        "        time_spent,_ = nasbench.get_budget_counters()\n",
        "        times.append(time_spent)\n",
        "        if time_spent > max_time_budget:\n",
        "            break\n",
        "            \n",
        "        \n",
        "    return times, best_valids, best_tests, space"
      ],
      "execution_count": null,
      "outputs": []
    },
    {
      "cell_type": "markdown",
      "metadata": {
        "id": "BHyTI_sMkjjL"
      },
      "source": [
        "## Training\n",
        "We applied random space search without random seed for the final results, passing in random seed if a repeated results need to observed."
      ]
    },
    {
      "cell_type": "code",
      "metadata": {
        "id": "HMfF2zXxpQNA",
        "colab": {
          "base_uri": "https://localhost:8080/"
        },
        "outputId": "a60b254c-527d-4497-9ee9-9a1621197a92"
      },
      "source": [
        "# Run random search, evolution search and estimotor-based search 10 times each. \n",
        "# Each run would have taken days of compute to actually train and evaluate if the dataset were not precomputed.\n",
        "TIME_BUDGET = int(5e6)\n",
        "random_data = []\n",
        "random_data1 = []\n",
        "random_data2 = []\n",
        "evolution_data = []\n",
        "estimator_data = []\n",
        "for repeat in range(10):\n",
        "  print('Running repeat %d' % (repeat + 1))\n",
        "  # times, best_valid, best_test, spec_est = fix_edges_random_search(9, SELECT_OPS_1, max_time_budget=TIME_BUDGET)\n",
        "  # estimator_data.append((times, best_valid, best_test, spec_est))\n",
        "\n",
        "  times, best_valid, best_test, spec_rs = run_random_search(max_time_budget=TIME_BUDGET, ops = SELECT_OPS)\n",
        "  random_data.append((times, best_valid, best_test, spec_rs))\n",
        "\n",
        "  # comment out following four lines if you are not abserving the different search spaces\n",
        "  times, best_valid, best_test, spec_rs = run_random_search(max_time_budget=TIME_BUDGET, ops = SELECT_OPS_1)\n",
        "  random_data1.append((times, best_valid, best_test, spec_rs))\n",
        "\n",
        "  times, best_valid, best_test, spec_rs = run_random_search(max_time_budget=TIME_BUDGET, ops = SELECT_OPS_2)\n",
        "  random_data2.append((times, best_valid, best_test, spec_rs))\n",
        "\n",
        "  # following are used for search using different search methods\n",
        "  # times, best_valid, best_test, spec_evo = run_evolution_search(max_time_budget=TIME_BUDGET, ops = SELECT_OPS)\n",
        "  # evolution_data.append((times, best_valid, best_test, spec_evo))\n",
        "\n",
        "  # times, best_valid, best_test, spec_evo = run_evolution_search(max_time_budget=TIME_BUDGET)\n",
        "  # autoshrink_data.append((times, best_valid, best_test, spec_evo))"
      ],
      "execution_count": null,
      "outputs": [
        {
          "output_type": "stream",
          "text": [
            "Running repeat 1\n",
            "Running repeat 2\n",
            "Running repeat 3\n",
            "Running repeat 4\n",
            "Running repeat 5\n",
            "Running repeat 6\n",
            "Running repeat 7\n",
            "Running repeat 8\n",
            "Running repeat 9\n",
            "Running repeat 10\n"
          ],
          "name": "stdout"
        }
      ]
    },
    {
      "cell_type": "markdown",
      "metadata": {
        "id": "GfJ_RyUkkw43"
      },
      "source": [
        "## Plotting and choosing structures"
      ]
    },
    {
      "cell_type": "code",
      "metadata": {
        "id": "2d-yRmuhkz35"
      },
      "source": [
        "plt.figure(figsize=(20, 5))\n",
        "\n",
        "plt.subplot(1, 3, 1)\n",
        "for times, best_valid, best_test, spec in random_data:\n",
        "  plt.plot(times, best_valid, label='valid', color='red', alpha=0.5)\n",
        "  plt.plot(times, best_test, label='test', color='blue', alpha=0.5)\n",
        "\n",
        "plt.ylabel('accuracy')\n",
        "plt.xlabel('time spent (seconds)')\n",
        "plt.ylim(0.8, 0.96)\n",
        "plt.grid()\n",
        "plt.title('Random search(red=validation, blue=test)')\n",
        "\n",
        "plt.subplot(1, 3, 2)\n",
        "for times, best_valid, best_test, spec in evolution_data:\n",
        "  plt.plot(times, best_valid, label='valid', color='red', alpha=0.5)\n",
        "  plt.plot(times, best_test, label='test', color='blue', alpha=0.5)\n",
        "\n",
        "plt.ylabel('accuracy')\n",
        "plt.xlabel('time spent (seconds)')\n",
        "plt.ylim(0.92, 0.96)\n",
        "plt.grid()\n",
        "plt.title('Evolution search(red=validation, blue=test)')\n",
        "\n",
        "plt.subplot(1, 3, 3)\n",
        "for times, best_valid, best_test, spec in estimator_data:\n",
        "  plt.plot(times, best_valid, label='valid', color='red', alpha=0.5)\n",
        "  plt.plot(times, best_test, label='test', color='blue', alpha=0.5)\n",
        "\n",
        "plt.ylabel('accuracy')\n",
        "plt.xlabel('time spent (seconds)')\n",
        "plt.ylim(0.92, 0.96)\n",
        "plt.grid()\n",
        "plt.title('Estimator-based search(red=validation, blue=test)')\n",
        "\n",
        "# plt.savefig(\"accuracies_est9_all1.jpg\")"
      ],
      "execution_count": null,
      "outputs": []
    },
    {
      "cell_type": "code",
      "metadata": {
        "id": "F9lB_qL2oz9M",
        "colab": {
          "base_uri": "https://localhost:8080/",
          "height": 312
        },
        "outputId": "afb5dc33-9c58-4eb7-a662-b1b5351aee5e"
      },
      "source": [
        "# Compare the mean test accuracy along with error bars.\n",
        "def plot_data(data, color, label, gran=10000, max_budget=5000000):\n",
        "  \"\"\"Computes the mean and IQR fixed time steps.\"\"\"\n",
        "  xs = range(0, max_budget+1, gran)\n",
        "  mean = [0.0]\n",
        "  per25 = [0.0]\n",
        "  per75 = [0.0]\n",
        "  \n",
        "  repeats = len(data)\n",
        "  pointers = [1 for _ in range(repeats)]\n",
        "  \n",
        "  cur = gran\n",
        "  while cur < max_budget+1:\n",
        "    all_vals = []\n",
        "    for repeat in range(repeats):\n",
        "      while (pointers[repeat] < len(data[repeat][0]) and \n",
        "             data[repeat][0][pointers[repeat]] < cur):\n",
        "        pointers[repeat] += 1\n",
        "      prev_time = data[repeat][0][pointers[repeat]-1]\n",
        "      prev_test = data[repeat][2][pointers[repeat]-1]\n",
        "      next_time = data[repeat][0][pointers[repeat]]\n",
        "      next_test = data[repeat][2][pointers[repeat]]\n",
        "      assert prev_time < cur and next_time >= cur\n",
        "\n",
        "      # Linearly interpolate the test between the two surrounding points\n",
        "      cur_val = ((cur - prev_time) / (next_time - prev_time)) * (next_test - prev_test) + prev_test\n",
        "      \n",
        "      all_vals.append(cur_val)\n",
        "      \n",
        "    all_vals = sorted(all_vals)\n",
        "    mean.append(sum(all_vals) / float(len(all_vals)))\n",
        "    per25.append(all_vals[int(0.25 * repeats)])\n",
        "    per75.append(all_vals[int(0.75 * repeats)])\n",
        "      \n",
        "    cur += gran\n",
        "    \n",
        "  plt.plot(xs, mean, color=color, label=label, linewidth=2)\n",
        "  plt.fill_between(xs, per25, per75, alpha=0.1, linewidth=0, facecolor=color)\n",
        "\n",
        "print(len(random_data))\n",
        "plot_data(random_data, 'red', 'selected vertices', max_budget=TIME_BUDGET)\n",
        "plot_data(random_data1, 'blue', 'all CONV1X1', max_budget=TIME_BUDGET)\n",
        "plot_data(random_data2, 'yellow', 'all MAXPOOL', max_budget=TIME_BUDGET)\n",
        "# plot_data(evolution_data, 'blue', 'evolution', max_budget=TIME_BUDGET)\n",
        "# plot_data(estimator_data, 'yellow', 'estimator-based', max_budget=TIME_BUDGET)\n",
        "plt.legend(loc='lower right')\n",
        "plt.ylim(0.75, 1)\n",
        "plt.xlabel('total training time spent (seconds)')\n",
        "plt.ylabel('accuracy')\n",
        "plt.title('accuracy with different search space')\n",
        "plt.grid()\n",
        "# plt.savefig(\"accuracy with different search space.jpg\")"
      ],
      "execution_count": null,
      "outputs": [
        {
          "output_type": "stream",
          "text": [
            "10\n"
          ],
          "name": "stdout"
        },
        {
          "output_type": "display_data",
          "data": {
            "image/png": "[encoded data removed]",
            "text/plain": [
              "<Figure size 432x288 with 1 Axes>"
            ]
          },
          "metadata": {
            "tags": [],
            "needs_background": "light"
          }
        }
      ]
    },
    {
      "cell_type": "code",
      "metadata": {
        "id": "X6mWL9QutOf_"
      },
      "source": [
        "def printStructure(alg_data):\n",
        "  best = []\n",
        "  final_best_valid = 0\n",
        "  for times, best_valid, best_test, spec in alg_data:\n",
        "    a = max(best_valid)\n",
        "    idx = best_valid.index(a) \n",
        "    if final_best_valid < a:\n",
        "      final_best_valid = a\n",
        "      best_spec = spec\n",
        "  print(final_best_valid)\n",
        "  print(spec.original_matrix)\n",
        "  print(spec.original_ops)\n",
        "  print(\"\\n\")\n",
        "  cell = api.ModelSpec(matrix=spec.original_matrix, ops=spec.original_ops)\n",
        "  data = nasbench.query(cell)\n",
        "  for k, v in data.items():\n",
        "    print('%s: %s' % (k, str(v)))"
      ],
      "execution_count": null,
      "outputs": []
    },
    {
      "cell_type": "code",
      "metadata": {
        "colab": {
          "base_uri": "https://localhost:8080/"
        },
        "id": "4pI8aka9j-ID",
        "outputId": "30334d5c-eecb-4113-84ea-212d27ca19b1"
      },
      "source": [
        "# print the best architeture found\n",
        "print(\"rs:\")\n",
        "printStructure(random_data)\n",
        "\n",
        "print(\"\\nevo:\")\n",
        "printStructure(evolution_data)\n",
        "\n",
        "print(\"\\nest:\")\n",
        "printStructure(estimator_data)"
      ],
      "execution_count": null,
      "outputs": [
        {
          "output_type": "stream",
          "text": [
            "rs:\n",
            "0.8441506624221802\n",
            "[[0 1 1 1 0 0 1]\n",
            " [0 0 1 0 0 0 0]\n",
            " [0 0 0 0 0 0 1]\n",
            " [0 0 0 0 0 0 1]\n",
            " [0 0 0 0 0 1 0]\n",
            " [0 0 0 0 0 0 1]\n",
            " [0 0 0 0 0 0 0]]\n",
            "['input', 'conv1x1-bn-relu', 'conv1x1-bn-relu', 'conv1x1-bn-relu', 'conv1x1-bn-relu', 'conv1x1-bn-relu', 'output']\n",
            "\n",
            "\n",
            "module_adjacency: [[0 1 1 1 1]\n",
            " [0 0 0 0 1]\n",
            " [0 0 0 1 0]\n",
            " [0 0 0 0 1]\n",
            " [0 0 0 0 0]]\n",
            "module_operations: ['input', 'conv1x1-bn-relu', 'conv1x1-bn-relu', 'conv1x1-bn-relu', 'output']\n",
            "trainable_parameters: 2975370\n",
            "training_time: 1534.679931640625\n",
            "train_accuracy: 0.9881811141967773\n",
            "validation_accuracy: 0.8399438858032227\n",
            "test_accuracy: 0.8369390964508057\n",
            "\n",
            "evo:\n",
            "0.8441506624221802\n",
            "[[0 1 1 0 0 1 1]\n",
            " [0 0 0 1 1 1 0]\n",
            " [0 0 0 0 1 1 0]\n",
            " [0 0 0 0 0 0 0]\n",
            " [0 0 0 0 0 0 0]\n",
            " [0 0 0 0 0 0 1]\n",
            " [0 0 0 0 0 0 0]]\n",
            "['input', 'conv1x1-bn-relu', 'conv1x1-bn-relu', 'conv1x1-bn-relu', 'conv1x1-bn-relu', 'conv1x1-bn-relu', 'output']\n",
            "\n",
            "\n",
            "module_adjacency: [[0 1 1 1 1]\n",
            " [0 0 0 1 0]\n",
            " [0 0 0 1 0]\n",
            " [0 0 0 0 1]\n",
            " [0 0 0 0 0]]\n",
            "module_operations: ['input', 'conv1x1-bn-relu', 'conv1x1-bn-relu', 'conv1x1-bn-relu', 'output']\n",
            "trainable_parameters: 6616458\n",
            "training_time: 1679.553955078125\n",
            "train_accuracy: 0.9950921535491943\n",
            "validation_accuracy: 0.8413461446762085\n",
            "test_accuracy: 0.8361378312110901\n",
            "\n",
            "est:\n",
            "0.8441506624221802\n",
            "[[0 0 0 1 1 0 1]\n",
            " [0 0 1 0 0 0 0]\n",
            " [0 0 0 1 1 0 0]\n",
            " [0 0 0 0 1 1 0]\n",
            " [0 0 0 0 0 0 1]\n",
            " [0 0 0 0 0 0 0]\n",
            " [0 0 0 0 0 0 0]]\n",
            "['input', 'conv1x1-bn-relu', 'conv1x1-bn-relu', 'conv1x1-bn-relu', 'conv1x1-bn-relu', 'conv1x1-bn-relu', 'output']\n",
            "\n",
            "\n",
            "module_adjacency: [[0 1 1 1]\n",
            " [0 0 1 0]\n",
            " [0 0 0 1]\n",
            " [0 0 0 0]]\n",
            "module_operations: ['input', 'conv1x1-bn-relu', 'conv1x1-bn-relu', 'output']\n",
            "trainable_parameters: 4705162\n",
            "training_time: 1197.550048828125\n",
            "train_accuracy: 0.9894831776618958\n",
            "validation_accuracy: 0.8372395634651184\n",
            "test_accuracy: 0.8346354365348816\n"
          ],
          "name": "stdout"
        }
      ]
    },
    {
      "cell_type": "code",
      "metadata": {
        "id": "QYi-H_JDlDkO"
      },
      "source": [
        ""
      ],
      "execution_count": null,
      "outputs": []
    }
  ]
}